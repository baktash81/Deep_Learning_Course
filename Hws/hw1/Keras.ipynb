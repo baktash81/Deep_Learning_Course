{
  "cells": [
    {
      "cell_type": "markdown",
      "metadata": {
        "id": "g7uk8yWkokGr"
      },
      "source": [
        "# Dataset\n",
        "https://www.tensorflow.org/api_docs/python/tf/keras/datasets"
      ]
    },
    {
      "cell_type": "code",
      "execution_count": 1,
      "metadata": {
        "id": "nVALD1hFofRY"
      },
      "outputs": [],
      "source": [
        "from tensorflow.keras import datasets\n",
        "from tensorflow.keras.utils import to_categorical\n",
        "import matplotlib.pyplot as plt\n",
        "import numpy as np"
      ]
    },
    {
      "cell_type": "markdown",
      "metadata": {
        "id": "gWTHXi1ep0we"
      },
      "source": [
        "## MNIST\n",
        "https://www.tensorflow.org/api_docs/python/tf/keras/datasets/mnist/load_data"
      ]
    },
    {
      "cell_type": "markdown",
      "metadata": {
        "id": "EkSbYJzHym6E"
      },
      "source": [
        "### Loading dataset and Coverting labels to categorical form\n",
        "https://www.tensorflow.org/api_docs/python/tf/keras/utils/to_categorical"
      ]
    },
    {
      "cell_type": "code",
      "execution_count": 2,
      "metadata": {
        "colab": {
          "base_uri": "https://localhost:8080/"
        },
        "id": "G_QUf-nTpNLP",
        "outputId": "06a43e2d-a33d-4e8d-c874-d12321168072"
      },
      "outputs": [
        {
          "output_type": "stream",
          "name": "stdout",
          "text": [
            "Downloading data from https://storage.googleapis.com/tensorflow/tf-keras-datasets/mnist.npz\n",
            "11490434/11490434 [==============================] - 0s 0us/step\n"
          ]
        }
      ],
      "source": [
        "(x_train_1, y_train_1), (x_test_1, y_test_1) = datasets.mnist.load_data()\n",
        "y_train_1 = to_categorical(y_train_1, num_classes=10)\n",
        "y_test_1 = to_categorical(y_test_1, num_classes=10)"
      ]
    },
    {
      "cell_type": "markdown",
      "metadata": {
        "id": "AsBhGMkvyFGN"
      },
      "source": [
        "### Train and Test data shapes"
      ]
    },
    {
      "cell_type": "code",
      "execution_count": 3,
      "metadata": {
        "colab": {
          "base_uri": "https://localhost:8080/"
        },
        "id": "jVvjb6sLph_z",
        "outputId": "e48e8e4d-4d50-4742-a393-38c18f319abd"
      },
      "outputs": [
        {
          "output_type": "stream",
          "name": "stdout",
          "text": [
            "(60000, 28, 28)\n",
            "(60000, 10)\n"
          ]
        }
      ],
      "source": [
        "print(x_train_1.shape)\n",
        "print(y_train_1.shape)"
      ]
    },
    {
      "cell_type": "code",
      "execution_count": 4,
      "metadata": {
        "colab": {
          "base_uri": "https://localhost:8080/"
        },
        "id": "NygMmPNZpqk6",
        "outputId": "0ce60d58-4145-4981-bc2a-4ab98f5c595a"
      },
      "outputs": [
        {
          "output_type": "stream",
          "name": "stdout",
          "text": [
            "(10000, 28, 28)\n",
            "(10000, 10)\n"
          ]
        }
      ],
      "source": [
        "print(x_test_1.shape)\n",
        "print(y_test_1.shape)"
      ]
    },
    {
      "cell_type": "markdown",
      "metadata": {
        "id": "ueAuBtxtzBk3"
      },
      "source": [
        "### Showing one of the dataset examples"
      ]
    },
    {
      "cell_type": "code",
      "execution_count": 8,
      "metadata": {
        "colab": {
          "base_uri": "https://localhost:8080/",
          "height": 448
        },
        "id": "06kEayfrqgzM",
        "outputId": "bc75e3a4-9dde-444a-97be-4242b3ecf88c"
      },
      "outputs": [
        {
          "output_type": "execute_result",
          "data": {
            "text/plain": [
              "<matplotlib.image.AxesImage at 0x7c199ce1e560>"
            ]
          },
          "metadata": {},
          "execution_count": 8
        },
        {
          "output_type": "display_data",
          "data": {
            "text/plain": [
              "<Figure size 640x480 with 1 Axes>"
            ],
            "image/png": "[encoded data removed]"
          },
          "metadata": {}
        }
      ],
      "source": [
        "index = 0\n",
        "fig, (ax1) = plt.subplots(1, 1)\n",
        "ax1.imshow(x_train_1[index])"
      ]
    },
    {
      "cell_type": "markdown",
      "metadata": {
        "id": "VIVa8A4Oun6c"
      },
      "source": [
        "# Model\n",
        "https://www.tensorflow.org/api_docs/python/tf/keras/models\n",
        "\n",
        "https://www.tensorflow.org/api_docs/python/tf/keras/layers\n"
      ]
    },
    {
      "cell_type": "code",
      "execution_count": 9,
      "metadata": {
        "id": "JYhftIS6wH4h"
      },
      "outputs": [],
      "source": [
        "from tensorflow.keras import layers\n",
        "from tensorflow.keras.utils import plot_model"
      ]
    },
    {
      "cell_type": "markdown",
      "metadata": {
        "id": "_d0F574OviHF"
      },
      "source": [
        "## Sequential\n",
        "https://www.tensorflow.org/guide/keras/sequential_model"
      ]
    },
    {
      "cell_type": "code",
      "execution_count": 10,
      "metadata": {
        "id": "k1-msOy3vdZd"
      },
      "outputs": [],
      "source": [
        "from tensorflow.keras.models import Sequential"
      ]
    },
    {
      "cell_type": "code",
      "execution_count": 11,
      "metadata": {
        "id": "CJQZG6AAvs70"
      },
      "outputs": [],
      "source": [
        "model_temp_1 = Sequential()\n",
        "\n",
        "model_temp_1.add(layers.Input(shape=(50, 50)))\n",
        "\n",
        "model_temp_1.add(layers.Flatten())\n",
        "\n",
        "\n",
        "model_temp_1.add(layers.Dense(256, activation='relu'))\n",
        "\n",
        "model_temp_1.add(layers.Dense(128, activation='relu'))\n",
        "\n",
        "\n",
        "model_temp_1.add(layers.Dense(5, activation='softmax'))"
      ]
    },
    {
      "cell_type": "markdown",
      "metadata": {
        "id": "wh621fXMUaYR"
      },
      "source": [
        "### Model Summary\n",
        "https://www.tensorflow.org/js/guide/models_and_layers#model_summary"
      ]
    },
    {
      "cell_type": "code",
      "execution_count": 12,
      "metadata": {
        "colab": {
          "base_uri": "https://localhost:8080/"
        },
        "id": "4UnIk6sGxLNh",
        "outputId": "3dba5b47-6e22-4fb2-fe39-91c59d8aff02"
      },
      "outputs": [
        {
          "output_type": "stream",
          "name": "stdout",
          "text": [
            "Model: \"sequential\"\n",
            "_________________________________________________________________\n",
            " Layer (type)                Output Shape              Param #   \n",
            "=================================================================\n",
            " flatten (Flatten)           (None, 2500)              0         \n",
            "                                                                 \n",
            " dense (Dense)               (None, 256)               640256    \n",
            "                                                                 \n",
            " dense_1 (Dense)             (None, 128)               32896     \n",
            "                                                                 \n",
            " dense_2 (Dense)             (None, 5)                 645       \n",
            "                                                                 \n",
            "=================================================================\n",
            "Total params: 673797 (2.57 MB)\n",
            "Trainable params: 673797 (2.57 MB)\n",
            "Non-trainable params: 0 (0.00 Byte)\n",
            "_________________________________________________________________\n"
          ]
        }
      ],
      "source": [
        "model_temp_1.summary()"
      ]
    },
    {
      "cell_type": "markdown",
      "metadata": {
        "id": "5cLKoVBwWoab"
      },
      "source": [
        "### Plotting Model and Save it as **structure_1.png**\n",
        "https://www.tensorflow.org/api_docs/python/tf/keras/utils/plot_model"
      ]
    },
    {
      "cell_type": "code",
      "execution_count": 13,
      "metadata": {
        "colab": {
          "base_uri": "https://localhost:8080/",
          "height": 533
        },
        "id": "SyCzEMRYxLMC",
        "outputId": "3fffa4c6-9121-4c23-f67d-7118c8e3f2eb"
      },
      "outputs": [
        {
          "output_type": "execute_result",
          "data": {
            "image/png": "[encoded data removed]",
            "text/plain": [
              "<IPython.core.display.Image object>"
            ]
          },
          "metadata": {},
          "execution_count": 13
        }
      ],
      "source": [
        "plot_model(\n",
        "    model_temp_1,\n",
        "    to_file=\"structure_1.png\",\n",
        "    show_shapes=True,\n",
        "    show_layer_names=True,\n",
        ")"
      ]
    },
    {
      "cell_type": "markdown",
      "metadata": {
        "id": "a3fGzxhuvlmB"
      },
      "source": [
        "## Functional API\n",
        "https://www.tensorflow.org/guide/keras/functional"
      ]
    },
    {
      "cell_type": "code",
      "execution_count": 14,
      "metadata": {
        "id": "zJf3UzRzvqAX"
      },
      "outputs": [],
      "source": [
        "from tensorflow.keras.models import Model"
      ]
    },
    {
      "cell_type": "code",
      "execution_count": 15,
      "metadata": {
        "id": "issu4z2mzlpD"
      },
      "outputs": [],
      "source": [
        "def model_factory(input_shape, num_classes):\n",
        "\n",
        "  input_layer = layers.Input(shape=input_shape)\n",
        "\n",
        "  flatten_layer = layers.Flatten()(input_layer)\n",
        "\n",
        "  hidden_layer1 = layers.Dense(256, activation='relu')(flatten_layer)\n",
        "  hidden_layer2 = layers.Dense(128, activation='relu')(hidden_layer1)\n",
        "\n",
        "  output_layer = layers.Dense(num_classes, activation='softmax')(hidden_layer2)\n",
        "\n",
        "  return Model(inputs=input_layer, outputs=output_layer)"
      ]
    },
    {
      "cell_type": "code",
      "execution_count": 16,
      "metadata": {
        "id": "cyiFUQEx1DPw"
      },
      "outputs": [],
      "source": [
        "model_template_2 = model_factory(\n",
        "    input_shape=(50, 50),\n",
        "    num_classes=5,\n",
        ")"
      ]
    },
    {
      "cell_type": "markdown",
      "metadata": {
        "id": "fryM17I8YqmD"
      },
      "source": [
        "### Model Summary"
      ]
    },
    {
      "cell_type": "code",
      "execution_count": 17,
      "metadata": {
        "colab": {
          "base_uri": "https://localhost:8080/"
        },
        "id": "ZdHqhV1W1P_6",
        "outputId": "04acb93b-7c84-4fe1-84df-17266d0e8426"
      },
      "outputs": [
        {
          "output_type": "stream",
          "name": "stdout",
          "text": [
            "Model: \"model\"\n",
            "_________________________________________________________________\n",
            " Layer (type)                Output Shape              Param #   \n",
            "=================================================================\n",
            " input_2 (InputLayer)        [(None, 50, 50)]          0         \n",
            "                                                                 \n",
            " flatten_1 (Flatten)         (None, 2500)              0         \n",
            "                                                                 \n",
            " dense_3 (Dense)             (None, 256)               640256    \n",
            "                                                                 \n",
            " dense_4 (Dense)             (None, 128)               32896     \n",
            "                                                                 \n",
            " dense_5 (Dense)             (None, 5)                 645       \n",
            "                                                                 \n",
            "=================================================================\n",
            "Total params: 673797 (2.57 MB)\n",
            "Trainable params: 673797 (2.57 MB)\n",
            "Non-trainable params: 0 (0.00 Byte)\n",
            "_________________________________________________________________\n"
          ]
        }
      ],
      "source": [
        "model_template_2.summary()"
      ]
    },
    {
      "cell_type": "markdown",
      "metadata": {
        "id": "Il7CnnQfYtFB"
      },
      "source": [
        "### Plotting Model and Save it as **structure_2.png**"
      ]
    },
    {
      "cell_type": "code",
      "execution_count": 18,
      "metadata": {
        "colab": {
          "base_uri": "https://localhost:8080/",
          "height": 533
        },
        "id": "hsAMlz221RCb",
        "outputId": "3bb17b3b-a889-4be4-db15-5e75c30a69f8"
      },
      "outputs": [
        {
          "output_type": "execute_result",
          "data": {
            "image/png": "[encoded data removed]",
            "text/plain": [
              "<IPython.core.display.Image object>"
            ]
          },
          "metadata": {},
          "execution_count": 18
        }
      ],
      "source": [
        "plot_model(\n",
        "    model_template_2,\n",
        "    to_file=\"structure_2.png\",\n",
        "    show_shapes=True,\n",
        "    show_layer_names=True,\n",
        ")"
      ]
    },
    {
      "cell_type": "markdown",
      "metadata": {
        "id": "X_k-PnIx7JTi"
      },
      "source": [
        "## Optimizers and Loss\n",
        "https://www.tensorflow.org/api_docs/python/tf/keras/optimizers/SGD\n",
        "\n",
        "https://www.tensorflow.org/api_docs/python/tf/keras/losses"
      ]
    },
    {
      "cell_type": "code",
      "execution_count": 19,
      "metadata": {
        "id": "Ibu8V5AB7Rrb"
      },
      "outputs": [],
      "source": [
        "from tensorflow.keras.optimizers import SGD"
      ]
    },
    {
      "cell_type": "code",
      "execution_count": 20,
      "metadata": {
        "id": "jd4JS7mX7P69"
      },
      "outputs": [],
      "source": [
        "sgd_optimizer = SGD(learning_rate=0.001)"
      ]
    },
    {
      "cell_type": "markdown",
      "metadata": {
        "id": "p52dlnj645YI"
      },
      "source": [
        "## Compile, Fit and Evaluation\n",
        "https://www.tensorflow.org/api_docs/python/tf/keras/Model#compile\n",
        "\n",
        "https://www.tensorflow.org/api_docs/python/tf/keras/Model#fit\n",
        "\n",
        "https://www.tensorflow.org/api_docs/python/tf/keras/Model#evaluate\n",
        "\n",
        "https://keras.io/api/models/model_training_apis/#predict-method"
      ]
    },
    {
      "cell_type": "markdown",
      "metadata": {
        "id": "Qj97C2Ie6d49"
      },
      "source": [
        "### MNIST"
      ]
    },
    {
      "cell_type": "code",
      "execution_count": 21,
      "metadata": {
        "colab": {
          "base_uri": "https://localhost:8080/"
        },
        "id": "geDiiuHU47VI",
        "outputId": "cbec0701-84ca-4ec4-dabf-d4ccde0f0993"
      },
      "outputs": [
        {
          "output_type": "stream",
          "name": "stdout",
          "text": [
            "Epoch 1/10\n",
            "750/750 [==============================] - 8s 4ms/step - loss: 2.0438 - accuracy: 0.8074 - val_loss: 0.4860 - val_accuracy: 0.8776\n",
            "Epoch 2/10\n",
            "750/750 [==============================] - 3s 4ms/step - loss: 0.3906 - accuracy: 0.8966 - val_loss: 0.3721 - val_accuracy: 0.9076\n",
            "Epoch 3/10\n",
            "750/750 [==============================] - 3s 3ms/step - loss: 0.2862 - accuracy: 0.9191 - val_loss: 0.3230 - val_accuracy: 0.9194\n",
            "Epoch 4/10\n",
            "750/750 [==============================] - 3s 4ms/step - loss: 0.2342 - accuracy: 0.9332 - val_loss: 0.3006 - val_accuracy: 0.9247\n",
            "Epoch 5/10\n",
            "750/750 [==============================] - 3s 3ms/step - loss: 0.1997 - accuracy: 0.9417 - val_loss: 0.2811 - val_accuracy: 0.9285\n",
            "Epoch 6/10\n",
            "750/750 [==============================] - 4s 5ms/step - loss: 0.1745 - accuracy: 0.9483 - val_loss: 0.2721 - val_accuracy: 0.9317\n",
            "Epoch 7/10\n",
            "750/750 [==============================] - 3s 4ms/step - loss: 0.1555 - accuracy: 0.9540 - val_loss: 0.2660 - val_accuracy: 0.9337\n",
            "Epoch 8/10\n",
            "750/750 [==============================] - 3s 4ms/step - loss: 0.1395 - accuracy: 0.9582 - val_loss: 0.2472 - val_accuracy: 0.9368\n",
            "Epoch 9/10\n",
            "750/750 [==============================] - 3s 4ms/step - loss: 0.1269 - accuracy: 0.9622 - val_loss: 0.2487 - val_accuracy: 0.9380\n",
            "Epoch 10/10\n",
            "750/750 [==============================] - 4s 5ms/step - loss: 0.1165 - accuracy: 0.9643 - val_loss: 0.2448 - val_accuracy: 0.9370\n"
          ]
        }
      ],
      "source": [
        "model_mnist = model_factory(\n",
        "    input_shape=(28, 28),\n",
        "    num_classes=10,\n",
        ")\n",
        "\n",
        "model_mnist.compile(optimizer=sgd_optimizer, loss='categorical_crossentropy', metrics=['accuracy'])\n",
        "\n",
        "\n",
        "history = model_mnist.fit(x_train_1, y_train_1, batch_size=64, epochs=10, validation_split=0.2)"
      ]
    },
    {
      "cell_type": "markdown",
      "metadata": {
        "id": "tD4ee660soz1"
      },
      "source": [
        "#### Plotting model Loss and Accuracy on train and validation sets per epoch"
      ]
    },
    {
      "cell_type": "code",
      "execution_count": 22,
      "metadata": {
        "colab": {
          "base_uri": "https://localhost:8080/",
          "height": 490
        },
        "id": "cEdazOlB_Nwm",
        "outputId": "a3b5e05c-bcc0-47b9-d5db-f9f4d0a9c94b"
      },
      "outputs": [
        {
          "output_type": "execute_result",
          "data": {
            "text/plain": [
              "<matplotlib.legend.Legend at 0x7c197e33fd00>"
            ]
          },
          "metadata": {},
          "execution_count": 22
        },
        {
          "output_type": "display_data",
          "data": {
            "text/plain": [
              "<Figure size 640x480 with 2 Axes>"
            ],
            "image/png": "[encoded data removed]"
          },
          "metadata": {}
        }
      ],
      "source": [
        "fig, (ax1, ax2) = plt.subplots(1, 2)\n",
        "\n",
        "ax1.plot(history.history['accuracy'])\n",
        "ax1.plot(history.history['val_accuracy'])\n",
        "ax1.set_title('Model accuracy')\n",
        "ax1.set_ylabel('accuracy')\n",
        "ax1.set_xlabel('epoch')\n",
        "ax1.legend(['training', 'validation'], loc='lower right')\n",
        "\n",
        "ax2.plot(history.history['loss'])\n",
        "ax2.plot(history.history['val_loss'])\n",
        "ax2.set_title('Model loss')\n",
        "ax2.set_ylabel('loss')\n",
        "ax2.set_xlabel('epoch')\n",
        "ax2.legend(['training', 'validation'], loc='upper right')"
      ]
    },
    {
      "cell_type": "markdown",
      "metadata": {
        "id": "Fl9Ux9FWt4Zb"
      },
      "source": [
        "#### Evaluating Test set"
      ]
    },
    {
      "cell_type": "code",
      "execution_count": 23,
      "metadata": {
        "colab": {
          "base_uri": "https://localhost:8080/"
        },
        "id": "8LZQk6Tm8wCg",
        "outputId": "8051a490-3513-4878-e18f-036dce51d2d8"
      },
      "outputs": [
        {
          "output_type": "stream",
          "name": "stdout",
          "text": [
            "313/313 [==============================] - 1s 3ms/step - loss: 0.2423 - accuracy: 0.9373\n"
          ]
        },
        {
          "output_type": "execute_result",
          "data": {
            "text/plain": [
              "[0.24231460690498352, 0.9373000264167786]"
            ]
          },
          "metadata": {},
          "execution_count": 23
        }
      ],
      "source": [
        "model_mnist.evaluate(x_test_1, y_test_1)"
      ]
    },
    {
      "cell_type": "markdown",
      "metadata": {
        "id": "5zN0uxmeu-Ru"
      },
      "source": [
        "#### Predicting Some samples from Test set"
      ]
    },
    {
      "cell_type": "code",
      "execution_count": 24,
      "metadata": {
        "colab": {
          "base_uri": "https://localhost:8080/"
        },
        "id": "4kQEWwUaNts9",
        "outputId": "1fd39235-7017-45eb-af1a-a4bbbedd6d8c"
      },
      "outputs": [
        {
          "output_type": "stream",
          "name": "stdout",
          "text": [
            "1/1 [==============================] - 0s 114ms/step\n",
            "Predictions for the first three test samples:\n",
            "Sample 1: Predicted Label: 7, Actual Label: 7\n",
            "Sample 2: Predicted Label: 2, Actual Label: 2\n",
            "Sample 3: Predicted Label: 1, Actual Label: 1\n"
          ]
        }
      ],
      "source": [
        "sample_predictions = model_mnist.predict(x_test_1[:3])\n",
        "\n",
        "# Convert one-hot encoded predictions to integer labels\n",
        "sample_predictions_int = np.argmax(sample_predictions, axis=1)\n",
        "\n",
        "print(\"Predictions for the first three test samples:\")\n",
        "for i, prediction in enumerate(sample_predictions_int):\n",
        "    print(f\"Sample {i+1}: Predicted Label: {prediction}, Actual Label: {np.argmax(y_test_1, axis=1)[i]}\")"
      ]
    }
  ],
  "metadata": {
    "accelerator": "GPU",
    "colab": {
      "gpuType": "T4",
      "provenance": []
    },
    "kernelspec": {
      "display_name": "Python 3",
      "name": "python3"
    },
    "language_info": {
      "codemirror_mode": {
        "name": "ipython",
        "version": 3
      },
      "file_extension": ".py",
      "mimetype": "text/x-python",
      "name": "python",
      "nbconvert_exporter": "python",
      "pygments_lexer": "ipython3",
      "version": "3.10.12"
    }
  },
  "nbformat": 4,
  "nbformat_minor": 0
}