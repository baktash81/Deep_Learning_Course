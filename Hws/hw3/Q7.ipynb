{
  "nbformat": 4,
  "nbformat_minor": 0,
  "metadata": {
    "colab": {
      "provenance": [],
      "gpuType": "T4"
    },
    "kernelspec": {
      "name": "python3",
      "display_name": "Python 3"
    },
    "language_info": {
      "name": "python"
    },
    "accelerator": "GPU"
  },
  "cells": [
    {
      "cell_type": "code",
      "source": [
        "import tensorflow as tf\n",
        "\n",
        "device_name = tf.test.gpu_device_name()\n",
        "if device_name != '/device:GPU:0':\n",
        "  raise SystemError('GPU device not found')\n",
        "print('Found GPU at: {}'.format(device_name))"
      ],
      "metadata": {
        "colab": {
          "base_uri": "https://localhost:8080/"
        },
        "id": "o4R2kwr5sClz",
        "outputId": "77792ae4-4a97-4e6b-ed57-4034ab9ff96b"
      },
      "execution_count": 1,
      "outputs": [
        {
          "output_type": "stream",
          "name": "stdout",
          "text": [
            "Found GPU at: /device:GPU:0\n"
          ]
        }
      ]
    },
    {
      "cell_type": "code",
      "execution_count": 4,
      "metadata": {
        "colab": {
          "base_uri": "https://localhost:8080/"
        },
        "id": "hyXHDDa-q5bq",
        "outputId": "bbd53dd9-48bb-402d-f1a2-3c4b9db32e0a"
      },
      "outputs": [
        {
          "output_type": "stream",
          "name": "stdout",
          "text": [
            "Epoch 1/10\n",
            "782/782 [==============================] - 21s 21ms/step - loss: 1.4049 - accuracy: 0.4942 - val_loss: 1.0835 - val_accuracy: 0.6203\n",
            "Epoch 2/10\n",
            "782/782 [==============================] - 15s 20ms/step - loss: 0.9385 - accuracy: 0.6730 - val_loss: 0.8429 - val_accuracy: 0.7100\n",
            "Epoch 3/10\n",
            "782/782 [==============================] - 15s 19ms/step - loss: 0.7462 - accuracy: 0.7417 - val_loss: 0.7941 - val_accuracy: 0.7257\n",
            "Epoch 4/10\n",
            "782/782 [==============================] - 16s 20ms/step - loss: 0.6190 - accuracy: 0.7852 - val_loss: 0.7467 - val_accuracy: 0.7384\n",
            "Epoch 5/10\n",
            "782/782 [==============================] - 16s 20ms/step - loss: 0.5025 - accuracy: 0.8243 - val_loss: 0.7238 - val_accuracy: 0.7519\n",
            "Epoch 6/10\n",
            "782/782 [==============================] - 15s 20ms/step - loss: 0.3944 - accuracy: 0.8629 - val_loss: 0.7950 - val_accuracy: 0.7503\n",
            "Epoch 7/10\n",
            "782/782 [==============================] - 16s 21ms/step - loss: 0.3041 - accuracy: 0.8925 - val_loss: 0.8978 - val_accuracy: 0.7387\n",
            "Epoch 8/10\n",
            "782/782 [==============================] - 15s 20ms/step - loss: 0.2224 - accuracy: 0.9215 - val_loss: 1.0347 - val_accuracy: 0.7332\n",
            "Epoch 9/10\n",
            "782/782 [==============================] - 15s 20ms/step - loss: 0.1698 - accuracy: 0.9391 - val_loss: 1.2532 - val_accuracy: 0.7279\n",
            "Epoch 10/10\n",
            "782/782 [==============================] - 15s 19ms/step - loss: 0.1386 - accuracy: 0.9501 - val_loss: 1.2925 - val_accuracy: 0.7351\n"
          ]
        }
      ],
      "source": [
        "import keras\n",
        "from keras.datasets import cifar10\n",
        "from keras.models import Model\n",
        "from keras.layers import Input, Conv2D, MaxPooling2D, concatenate, Flatten, Dense, Dropout\n",
        "from keras.utils import to_categorical\n",
        "\n",
        "# Load CIFAR-10 dataset\n",
        "(x_train, y_train), (x_test, y_test) = cifar10.load_data()\n",
        "\n",
        "# Normalize pixel values to be between 0 and 1\n",
        "x_train, x_test = x_train / 255.0, x_test / 255.0\n",
        "\n",
        "# Convert class vectors to binary class matrices\n",
        "y_train = to_categorical(y_train, 10)\n",
        "y_test = to_categorical(y_test, 10)\n",
        "\n",
        "# Define the inception module\n",
        "def inception_module(x):\n",
        "    conv1 = Conv2D(64, (1,1), padding='same', activation='relu')(x)\n",
        "\n",
        "    conv3 = Conv2D(64, (1,1), padding='same', activation='relu')(x)\n",
        "    conv3 = Conv2D(64, (3,3), padding='same', activation='relu')(conv3)\n",
        "\n",
        "    conv5 = Conv2D(64, (1,1), padding='same', activation='relu')(x)\n",
        "    conv5 = Conv2D(64, (5,5), padding='same', activation='relu')(conv5)\n",
        "\n",
        "    pool = MaxPooling2D((3,3), strides=(1,1), padding='same')(x)\n",
        "    pool = Conv2D(64, (1,1), padding='same', activation='relu')(pool)\n",
        "\n",
        "    output = concatenate([conv1, conv3, conv5, pool], axis=3)\n",
        "\n",
        "    return output\n",
        "\n",
        "# Define the model\n",
        "input_layer = Input(shape=(32, 32, 3))\n",
        "\n",
        "# Add some convolutional layers before the inception module\n",
        "x = Conv2D(32, (3,3), padding='same', activation='relu')(input_layer)\n",
        "x = Conv2D(64, (3,3), padding='same', activation='relu')(x)\n",
        "x = MaxPooling2D(pool_size=(2, 2))(x)\n",
        "\n",
        "# Add the inception module\n",
        "x = inception_module(x)\n",
        "\n",
        "x = Conv2D(128, (3,3), padding='same', activation='relu')(x)\n",
        "x = Conv2D(256, (3,3), padding='same', activation='relu')(x)\n",
        "\n",
        "x = Flatten()(x)\n",
        "output_layer = Dense(10, activation='softmax')(x)\n",
        "\n",
        "model = Model(inputs=input_layer, outputs=output_layer)\n",
        "\n",
        "# Compile the model\n",
        "model.compile(loss='categorical_crossentropy', optimizer='adam', metrics=['accuracy'])\n",
        "\n",
        "# Train the model\n",
        "history = model.fit(x_train, y_train, batch_size=64, epochs=10, validation_data=(x_test, y_test))\n",
        "\n"
      ]
    }
  ]
}