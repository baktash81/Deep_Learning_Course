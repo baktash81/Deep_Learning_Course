{
  "cells": [
    {
      "cell_type": "markdown",
      "metadata": {
        "id": "_p5PzhjEIOWw"
      },
      "source": [
        "# Q1"
      ]
    },
    {
      "cell_type": "code",
      "execution_count": null,
      "metadata": {
        "colab": {
          "base_uri": "https://localhost:8080/"
        },
        "id": "_gbxQC_iOLqH",
        "outputId": "b89c3987-f659-49d0-944a-594079e2784a"
      },
      "outputs": [
        {
          "name": "stdout",
          "output_type": "stream",
          "text": [
            "\u001b[?25l     \u001b[90m━━━━━━━━━━━━━━━━━━━━━━━━━━━━━━━━━━━━━━━━\u001b[0m \u001b[32m0.0/128.9 kB\u001b[0m \u001b[31m?\u001b[0m eta \u001b[36m-:--:--\u001b[0m\r\u001b[2K     \u001b[91m━━━━━━━━━━━━━━━━━━━\u001b[0m\u001b[90m╺\u001b[0m\u001b[90m━━━━━━━━━━━━━━━━━━━━\u001b[0m \u001b[32m61.4/128.9 kB\u001b[0m \u001b[31m1.8 MB/s\u001b[0m eta \u001b[36m0:00:01\u001b[0m\r\u001b[2K     \u001b[90m━━━━━━━━━━━━━━━━━━━━━━━━━━━━━━━━━━━━━━━━\u001b[0m \u001b[32m128.9/128.9 kB\u001b[0m \u001b[31m2.7 MB/s\u001b[0m eta \u001b[36m0:00:00\u001b[0m\n",
            "\u001b[?25h"
          ]
        }
      ],
      "source": [
        "pip install -q -U keras-tuner\n"
      ]
    },
    {
      "cell_type": "code",
      "execution_count": null,
      "metadata": {
        "id": "hzwxSsbbIQ7a"
      },
      "outputs": [],
      "source": [
        "import pandas as pd\n",
        "import numpy as np\n",
        "import tensorflow as tf\n",
        "from tensorflow import keras\n",
        "from tensorflow.keras.models import Sequential\n",
        "from tensorflow.keras.layers import Dense, Conv2D\n"
      ]
    },
    {
      "cell_type": "code",
      "execution_count": null,
      "metadata": {
        "colab": {
          "base_uri": "https://localhost:8080/"
        },
        "id": "_57TDsMMIT0U",
        "outputId": "30f29c4b-8f5c-4d97-fda2-1babd5eb2368"
      },
      "outputs": [
        {
          "name": "stdout",
          "output_type": "stream",
          "text": [
            "Downloading data from https://storage.googleapis.com/tensorflow/tf-keras-datasets/train-labels-idx1-ubyte.gz\n",
            "29515/29515 [==============================] - 0s 0us/step\n",
            "Downloading data from https://storage.googleapis.com/tensorflow/tf-keras-datasets/train-images-idx3-ubyte.gz\n",
            "26421880/26421880 [==============================] - 2s 0us/step\n",
            "Downloading data from https://storage.googleapis.com/tensorflow/tf-keras-datasets/t10k-labels-idx1-ubyte.gz\n",
            "5148/5148 [==============================] - 0s 0us/step\n",
            "Downloading data from https://storage.googleapis.com/tensorflow/tf-keras-datasets/t10k-images-idx3-ubyte.gz\n",
            "4422102/4422102 [==============================] - 1s 0us/step\n"
          ]
        }
      ],
      "source": [
        "df = tf.keras.datasets.fashion_mnist\n",
        "(train_df, train_label), (test_df, test_label) = df.load_data()\n"
      ]
    },
    {
      "cell_type": "code",
      "execution_count": null,
      "metadata": {
        "id": "3kGLIWu0IWut"
      },
      "outputs": [],
      "source": [
        "train_df = train_df / 255.0\n",
        "test_df = test_df / 255.0\n"
      ]
    },
    {
      "cell_type": "code",
      "execution_count": null,
      "metadata": {
        "id": "H28unOdMIYpO"
      },
      "outputs": [],
      "source": [
        "train_df = train_df.reshape(len(train_df), 28, 28, 1)\n",
        "test_df = test_df.reshape(len(test_df), 28, 28, 1)\n"
      ]
    },
    {
      "cell_type": "code",
      "execution_count": null,
      "metadata": {
        "id": "mfdHKx8_axlc"
      },
      "outputs": [],
      "source": [
        "!rm -r /content/untitled_project"
      ]
    },
    {
      "cell_type": "code",
      "execution_count": null,
      "metadata": {
        "colab": {
          "base_uri": "https://localhost:8080/"
        },
        "id": "rLRtfsTFIETM",
        "outputId": "39a19b92-02d8-4ecd-eafa-0316391eb061"
      },
      "outputs": [
        {
          "name": "stdout",
          "output_type": "stream",
          "text": [
            "Trial 10 Complete [00h 01m 37s]\n",
            "val_accuracy: 0.8944166898727417\n",
            "\n",
            "Best val_accuracy So Far: 0.9135000109672546\n",
            "Total elapsed time: 00h 13m 25s\n"
          ]
        }
      ],
      "source": [
        "import keras_tuner as kt\n",
        "from tensorflow.keras import layers\n",
        "\n",
        "def model_builder(hp):\n",
        "    model = tf.keras.Sequential()\n",
        "    # Tune the number of conv layers\n",
        "    for i in range(hp.Int('conv_layers', 1, 5)):\n",
        "        filter_size = hp.Choice('kernel_size', values=[3, 5, 8])\n",
        "        model.add(layers.Conv2D(filters=hp.Int('filters_' + str(i), 32, 256, step=32),\n",
        "                                kernel_size = (filter_size, filter_size), activation='relu'))\n",
        "    model.add(layers.Flatten())\n",
        "    # Tune the number of dense layers\n",
        "    for i in range(hp.Int('dense_layers', 1, 5)):\n",
        "        model.add(layers.Dense(units=hp.Int('units_' + str(i), 32, 256, step=32), activation='relu'))\n",
        "    model.add(layers.Dropout(0.4))\n",
        "    model.add(layers.Dense(10, activation='softmax'))  # Output layer\n",
        "    # Tune the learning rate\n",
        "    hp_learning_rate = hp.Choice('learning_rate', values=[1e-2, 1e-3, 1e-4])\n",
        "    model.compile(optimizer=tf.keras.optimizers.Adam(learning_rate=hp_learning_rate),\n",
        "                  loss=tf.keras.losses.SparseCategoricalCrossentropy(from_logits=True),\n",
        "                  metrics=['accuracy'])\n",
        "    return model\n",
        "\n",
        "tuner = kt.RandomSearch(model_builder,\n",
        "                        objective='val_accuracy',\n",
        "                        max_trials=10,  # specify the number of trials\n",
        "                        seed=42)  # for reproducibility\n",
        "\n",
        "tuner.search(train_df, train_label, epochs=5, validation_split=0.2)\n"
      ]
    },
    {
      "cell_type": "code",
      "execution_count": null,
      "metadata": {
        "colab": {
          "base_uri": "https://localhost:8080/"
        },
        "id": "mDvNBzA1IdwC",
        "outputId": "f0986dfb-ca71-4a2a-b781-70ae02f24dce"
      },
      "outputs": [
        {
          "name": "stdout",
          "output_type": "stream",
          "text": [
            "Epoch 1/6\n",
            "1500/1500 [==============================] - 20s 12ms/step - loss: 0.6254 - accuracy: 0.7804 - val_loss: 0.3571 - val_accuracy: 0.8703\n",
            "Epoch 2/6\n",
            "1500/1500 [==============================] - 18s 12ms/step - loss: 0.3629 - accuracy: 0.8764 - val_loss: 0.2820 - val_accuracy: 0.9013\n",
            "Epoch 3/6\n",
            "1500/1500 [==============================] - 18s 12ms/step - loss: 0.2817 - accuracy: 0.9035 - val_loss: 0.2575 - val_accuracy: 0.9032\n",
            "Epoch 4/6\n",
            "1500/1500 [==============================] - 18s 12ms/step - loss: 0.2278 - accuracy: 0.9220 - val_loss: 0.2688 - val_accuracy: 0.9104\n",
            "Epoch 5/6\n",
            "1500/1500 [==============================] - 18s 12ms/step - loss: 0.1837 - accuracy: 0.9371 - val_loss: 0.3066 - val_accuracy: 0.9088\n",
            "Epoch 6/6\n",
            "1500/1500 [==============================] - 18s 12ms/step - loss: 0.1428 - accuracy: 0.9525 - val_loss: 0.3023 - val_accuracy: 0.9112\n"
          ]
        }
      ],
      "source": [
        "best_hps = tuner.get_best_hyperparameters(num_trials=1)[0]\n",
        "model = tuner.hypermodel.build(best_hps)\n",
        "history = model.fit(train_df, train_label, epochs=6, validation_split=0.2)\n"
      ]
    },
    {
      "cell_type": "code",
      "execution_count": null,
      "metadata": {
        "colab": {
          "base_uri": "https://localhost:8080/",
          "height": 472
        },
        "id": "cxa4nHxrZQTY",
        "outputId": "2b7c9dbb-2665-4da5-9204-2c18cac266fa"
      },
      "outputs": [
        {
          "data": {
            "image/png": "[encoded data removed]",
            "text/plain": [
              "<Figure size 640x480 with 1 Axes>"
            ]
          },
          "metadata": {},
          "output_type": "display_data"
        }
      ],
      "source": [
        "import matplotlib.pyplot as plt\n",
        "\n",
        "# Get the history data\n",
        "history_dict = history.history\n",
        "\n",
        "# Extract loss and validation loss\n",
        "loss_values = history_dict['loss']\n",
        "val_loss_values = history_dict['val_loss']\n",
        "\n",
        "# Get the number of epochs\n",
        "epochs = range(1, len(loss_values) + 1)\n",
        "\n",
        "# \"bo\" is for \"blue dot\"\n",
        "plt.plot(epochs, loss_values, 'bo', label='Training loss')\n",
        "# \"b\" is for \"solid blue line\"\n",
        "plt.plot(epochs, val_loss_values, 'b', label='Validation loss')\n",
        "plt.title('Training and validation loss')\n",
        "plt.xlabel('Epochs')\n",
        "plt.ylabel('Loss')\n",
        "plt.legend()\n",
        "\n",
        "plt.show()\n"
      ]
    },
    {
      "cell_type": "markdown",
      "metadata": {},
      "source": [
        "# Q7"
      ]
    },
    {
      "cell_type": "code",
      "execution_count": 1,
      "metadata": {
        "id": "XcqmdqzIcE6i"
      },
      "outputs": [],
      "source": [
        "from keras.datasets import mnist\n",
        "(train_images, train_labels), (test_images, test_labels) = mnist.load_data()\n"
      ]
    },
    {
      "cell_type": "code",
      "execution_count": 2,
      "metadata": {
        "colab": {
          "base_uri": "https://localhost:8080/"
        },
        "id": "C2X7xGKvd8UQ",
        "outputId": "975e1b64-014e-45b7-c1f1-face676d0cbc"
      },
      "outputs": [
        {
          "name": "stdout",
          "output_type": "stream",
          "text": [
            "(60000, 28, 28)\n"
          ]
        }
      ],
      "source": [
        "import numpy as np\n",
        "shuffle_index = np.random.permutation(60000)\n",
        "train_images, train_labels = train_images[shuffle_index], train_labels[shuffle_index]\n",
        "print(train_images.shape)\n"
      ]
    },
    {
      "cell_type": "code",
      "execution_count": 3,
      "metadata": {
        "colab": {
          "base_uri": "https://localhost:8080/",
          "height": 370
        },
        "id": "bd-PeYDqd9rE",
        "outputId": "9b971c46-4aea-4ddd-e00b-f4c185feb149"
      },
      "outputs": [
        {
          "data": {
            "image/png": "[encoded data removed]",
            "text/plain": [
              "<Figure size 640x480 with 10 Axes>"
            ]
          },
          "metadata": {},
          "output_type": "display_data"
        }
      ],
      "source": [
        "import matplotlib.pyplot as plt\n",
        "for i in range(10):\n",
        "    plt.subplot(2, 5, i+1)\n",
        "    plt.imshow(train_images[i], cmap='gray')\n",
        "    plt.title(f'Label: {train_labels[i]}')\n",
        "plt.show()\n"
      ]
    },
    {
      "cell_type": "code",
      "execution_count": 4,
      "metadata": {
        "id": "UZ-vR6S7d_4m"
      },
      "outputs": [],
      "source": [
        "train_images = train_images / 255.0\n",
        "test_images = test_images / 255.0\n"
      ]
    },
    {
      "cell_type": "code",
      "execution_count": 5,
      "metadata": {
        "id": "fMbY2OAqeAzX"
      },
      "outputs": [],
      "source": [
        "from keras.utils import to_categorical\n",
        "train_labels = to_categorical(train_labels)\n",
        "test_labels = to_categorical(test_labels)\n"
      ]
    },
    {
      "cell_type": "code",
      "execution_count": 6,
      "metadata": {
        "colab": {
          "base_uri": "https://localhost:8080/"
        },
        "id": "qolzqrXSeB5J",
        "outputId": "252cee93-30b5-4538-9678-e95cdbc5c678"
      },
      "outputs": [
        {
          "name": "stdout",
          "output_type": "stream",
          "text": [
            "Model: \"sequential\"\n",
            "_________________________________________________________________\n",
            " Layer (type)                Output Shape              Param #   \n",
            "=================================================================\n",
            " conv2d (Conv2D)             (None, 28, 28, 32)        320       \n",
            "                                                                 \n",
            " max_pooling2d (MaxPooling2  (None, 14, 14, 32)        0         \n",
            " D)                                                              \n",
            "                                                                 \n",
            " conv2d_1 (Conv2D)           (None, 14, 14, 64)        18496     \n",
            "                                                                 \n",
            " max_pooling2d_1 (MaxPoolin  (None, 7, 7, 64)          0         \n",
            " g2D)                                                            \n",
            "                                                                 \n",
            " last_conv_layer (Conv2D)    (None, 7, 7, 64)          36928     \n",
            "                                                                 \n",
            " max_pooling2d_2 (MaxPoolin  (None, 3, 3, 64)          0         \n",
            " g2D)                                                            \n",
            "                                                                 \n",
            " flatten (Flatten)           (None, 576)               0         \n",
            "                                                                 \n",
            " dense (Dense)               (None, 128)               73856     \n",
            "                                                                 \n",
            " dense_1 (Dense)             (None, 10)                1290      \n",
            "                                                                 \n",
            "=================================================================\n",
            "Total params: 130890 (511.29 KB)\n",
            "Trainable params: 130890 (511.29 KB)\n",
            "Non-trainable params: 0 (0.00 Byte)\n",
            "_________________________________________________________________\n"
          ]
        }
      ],
      "source": [
        "from keras import layers\n",
        "from keras import models\n",
        "\n",
        "model = models.Sequential()\n",
        "model.add(layers.Conv2D(32, (3, 3), activation='relu', padding='same', input_shape=(28, 28, 1)))\n",
        "model.add(layers.MaxPooling2D((2, 2)))\n",
        "model.add(layers.Conv2D(64, (3, 3), activation='relu', padding='same'))\n",
        "model.add(layers.MaxPooling2D((2, 2)))\n",
        "model.add(layers.Conv2D(64, (3, 3), activation='relu', padding='same', name = \"last_conv_layer\"))\n",
        "model.add(layers.MaxPooling2D((2, 2)))\n",
        "model.add(layers.Flatten())\n",
        "model.add(layers.Dense(128, activation='relu'))\n",
        "model.add(layers.Dense(10, activation='softmax'))\n",
        "model.summary()"
      ]
    },
    {
      "cell_type": "code",
      "execution_count": 7,
      "metadata": {
        "colab": {
          "base_uri": "https://localhost:8080/"
        },
        "id": "SBOxSrGEeDb6",
        "outputId": "924e04a3-8d83-4782-b6f8-dc59c0d11aba"
      },
      "outputs": [
        {
          "name": "stdout",
          "output_type": "stream",
          "text": [
            "Epoch 1/15\n",
            "782/782 [==============================] - 20s 13ms/step - loss: 0.1881 - accuracy: 0.9410 - val_loss: 0.0740 - val_accuracy: 0.9767\n",
            "Epoch 2/15\n",
            "782/782 [==============================] - 9s 12ms/step - loss: 0.0509 - accuracy: 0.9836 - val_loss: 0.0500 - val_accuracy: 0.9845\n",
            "Epoch 3/15\n",
            "782/782 [==============================] - 5s 6ms/step - loss: 0.0358 - accuracy: 0.9888 - val_loss: 0.0506 - val_accuracy: 0.9846\n",
            "Epoch 4/15\n",
            "782/782 [==============================] - 5s 7ms/step - loss: 0.0283 - accuracy: 0.9910 - val_loss: 0.0451 - val_accuracy: 0.9870\n",
            "Epoch 5/15\n",
            "782/782 [==============================] - 4s 5ms/step - loss: 0.0229 - accuracy: 0.9923 - val_loss: 0.0470 - val_accuracy: 0.9870\n",
            "Epoch 6/15\n",
            "782/782 [==============================] - 4s 5ms/step - loss: 0.0190 - accuracy: 0.9938 - val_loss: 0.0551 - val_accuracy: 0.9842\n",
            "Epoch 7/15\n",
            "782/782 [==============================] - 5s 6ms/step - loss: 0.0152 - accuracy: 0.9950 - val_loss: 0.0373 - val_accuracy: 0.9892\n",
            "Epoch 8/15\n",
            "782/782 [==============================] - 4s 5ms/step - loss: 0.0120 - accuracy: 0.9962 - val_loss: 0.0464 - val_accuracy: 0.9876\n",
            "Epoch 9/15\n",
            "782/782 [==============================] - 4s 5ms/step - loss: 0.0113 - accuracy: 0.9960 - val_loss: 0.0381 - val_accuracy: 0.9907\n",
            "Epoch 10/15\n",
            "782/782 [==============================] - 5s 6ms/step - loss: 0.0093 - accuracy: 0.9970 - val_loss: 0.0411 - val_accuracy: 0.9906\n",
            "Epoch 11/15\n",
            "782/782 [==============================] - 4s 5ms/step - loss: 0.0085 - accuracy: 0.9972 - val_loss: 0.0360 - val_accuracy: 0.9917\n",
            "Epoch 12/15\n",
            "782/782 [==============================] - 4s 5ms/step - loss: 0.0077 - accuracy: 0.9974 - val_loss: 0.0457 - val_accuracy: 0.9886\n",
            "Epoch 13/15\n",
            "782/782 [==============================] - 5s 7ms/step - loss: 0.0075 - accuracy: 0.9975 - val_loss: 0.0418 - val_accuracy: 0.9898\n",
            "Epoch 14/15\n",
            "782/782 [==============================] - 4s 5ms/step - loss: 0.0063 - accuracy: 0.9981 - val_loss: 0.0452 - val_accuracy: 0.9900\n",
            "Epoch 15/15\n",
            "782/782 [==============================] - 4s 5ms/step - loss: 0.0060 - accuracy: 0.9980 - val_loss: 0.0567 - val_accuracy: 0.9885\n"
          ]
        }
      ],
      "source": [
        "model.compile(optimizer='adam',\n",
        "              loss='categorical_crossentropy',\n",
        "              metrics=['accuracy'])\n",
        "\n",
        "# Split the training data into training and validation sets\n",
        "val_images = train_images[:10000]\n",
        "partial_train_images = train_images[10000:]\n",
        "\n",
        "val_labels = train_labels[:10000]\n",
        "partial_train_labels = train_labels[10000:]\n",
        "\n",
        "# Train the model with validation data\n",
        "history = model.fit(partial_train_images, partial_train_labels, epochs=15, batch_size=64, validation_data=(val_images, val_labels))\n"
      ]
    },
    {
      "cell_type": "code",
      "execution_count": 39,
      "metadata": {
        "colab": {
          "base_uri": "https://localhost:8080/",
          "height": 529
        },
        "id": "6u1DtUbN8Bz6",
        "outputId": "18838be3-bbc2-4fbe-8e55-bc5de2bebe99"
      },
      "outputs": [
        {
          "name": "stderr",
          "output_type": "stream",
          "text": [
            "WARNING:matplotlib.image:Clipping input data to the valid range for imshow with RGB data ([0..1] for floats or [0..255] for integers).\n",
            "WARNING:matplotlib.image:Clipping input data to the valid range for imshow with RGB data ([0..1] for floats or [0..255] for integers).\n",
            "WARNING:matplotlib.image:Clipping input data to the valid range for imshow with RGB data ([0..1] for floats or [0..255] for integers).\n",
            "WARNING:matplotlib.image:Clipping input data to the valid range for imshow with RGB data ([0..1] for floats or [0..255] for integers).\n",
            "WARNING:matplotlib.image:Clipping input data to the valid range for imshow with RGB data ([0..1] for floats or [0..255] for integers).\n",
            "WARNING:matplotlib.image:Clipping input data to the valid range for imshow with RGB data ([0..1] for floats or [0..255] for integers).\n",
            "WARNING:matplotlib.image:Clipping input data to the valid range for imshow with RGB data ([0..1] for floats or [0..255] for integers).\n",
            "WARNING:matplotlib.image:Clipping input data to the valid range for imshow with RGB data ([0..1] for floats or [0..255] for integers).\n",
            "WARNING:matplotlib.image:Clipping input data to the valid range for imshow with RGB data ([0..1] for floats or [0..255] for integers).\n",
            "WARNING:matplotlib.image:Clipping input data to the valid range for imshow with RGB data ([0..1] for floats or [0..255] for integers).\n"
          ]
        },
        {
          "data": {
            "image/png": "[encoded data removed]",
            "text/plain": [
              "<Figure size 640x480 with 10 Axes>"
            ]
          },
          "metadata": {},
          "output_type": "display_data"
        }
      ],
      "source": [
        "import cv2\n",
        "import numpy as np\n",
        "import tensorflow.keras.backend as K\n",
        "import tensorflow as tf\n",
        "\n",
        "# Define the Grad-CAM function\n",
        "def grad_cam(model, img, layer_name):\n",
        "    # Get the last convolutional layer\n",
        "    last_conv_layer = model.get_layer(layer_name)\n",
        "\n",
        "    # Create a new model that outputs the last convolutional layer and the model's output\n",
        "    grad_model = tf.keras.models.Model([model.inputs], [last_conv_layer.output, model.output])\n",
        "\n",
        "    # Get the gradients of the predicted class with respect to the last convolutional layer\n",
        "    with tf.GradientTape() as tape:\n",
        "        conv_outputs, predictions = grad_model(img)\n",
        "        loss = predictions[:, np.argmax(predictions[0])]\n",
        "    grads = tape.gradient(loss, conv_outputs)\n",
        "\n",
        "    # Compute the mean intensity of the gradients over each channel\n",
        "    pooled_grads = K.mean(grads, axis=(0, 1, 2))\n",
        "\n",
        "    # Multiply each channel in the feature map by the corresponding gradient value\n",
        "    heatmap = tf.reduce_mean(tf.multiply(pooled_grads, conv_outputs), axis=-1)\n",
        "    heatmap = np.maximum(heatmap, 0)\n",
        "    heatmap /= np.max(heatmap)\n",
        "\n",
        "    # Resize the heatmap to match the original image size\n",
        "    heatmap = cv2.resize(heatmap[0], (img.shape[2], img.shape[1]))\n",
        "\n",
        "    # Convert the heatmap to 8-bit image\n",
        "    heatmap = np.uint8(255 * heatmap)\n",
        "\n",
        "    # Apply the heatmap to the original image\n",
        "    heatmap = cv2.applyColorMap(heatmap, cv2.COLORMAP_JET)\n",
        "\n",
        "    # Convert the original image to 8-bit\n",
        "    img = np.array(img[0]*255, dtype = np.uint8)\n",
        "\n",
        "    # If the original image is grayscale, convert it to color\n",
        "    if len(img.shape) == 2:\n",
        "        img = cv2.cvtColor(img, cv2.COLOR_GRAY2BGR)\n",
        "\n",
        "    superimposed_img = heatmap*0.4 + img * 0.6 + 0\n",
        "\n",
        "    return superimposed_img\n",
        "\n",
        "# Apply Grad-CAM on the last convolutional layer for the 10 image samples\n",
        "for i in range(10):\n",
        "    img = test_images[i].reshape((1, 28, 28, 1))\n",
        "    superimposed_img = grad_cam(model, img, \"last_conv_layer\")\n",
        "\n",
        "    plt.subplot(2, 5, i+1)\n",
        "    plt.imshow(superimposed_img, cmap='gray')\n",
        "    plt.title(f'Label: {test_labels[i]}')\n",
        "    plt.axis('off')\n",
        "\n",
        "plt.show()\n"
      ]
    }
  ],
  "metadata": {
    "accelerator": "GPU",
    "colab": {
      "collapsed_sections": [
        "_p5PzhjEIOWw"
      ],
      "gpuType": "T4",
      "provenance": []
    },
    "kernelspec": {
      "display_name": "Python 3",
      "name": "python3"
    },
    "language_info": {
      "name": "python"
    }
  },
  "nbformat": 4,
  "nbformat_minor": 0
}
